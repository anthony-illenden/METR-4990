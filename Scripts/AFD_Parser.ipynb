{
 "cells": [
  {
   "cell_type": "code",
   "execution_count": null,
   "metadata": {},
   "outputs": [],
   "source": [
    "!pip install requests\n",
    "!pip install json\n",
    "!pip install csv"
   ]
  },
  {
   "cell_type": "code",
   "execution_count": 1,
   "metadata": {},
   "outputs": [],
   "source": [
    "import requests\n",
    "import json\n",
    "import csv"
   ]
  },
  {
   "cell_type": "code",
   "execution_count": 2,
   "metadata": {},
   "outputs": [
    {
     "name": "stdout",
     "output_type": "stream",
     "text": [
      "Results exported to KAPX_METR_4990_Dates.csv\n"
     ]
    }
   ],
   "source": [
    "# URL containing the JSON data\n",
    "json_url = \"https://mesonet.agron.iastate.edu/json/nwstext_search.py?sts=2008-01-01T00:00Z&ets=2023-12-31T00:00Z&awipsid=AFDAPX\"\n",
    "\n",
    "filter_words = [\"mcs\", \"qcls\", \"mesoscale convective system\", \"quasi-linear convective system\"]\n",
    "\n",
    "unique_dates = set()\n",
    "\n",
    "# Make an HTTP request to the URL\n",
    "response = requests.get(json_url)\n",
    "\n",
    "csv_data = []\n",
    "\n",
    "if response.status_code == 200:\n",
    "    # Parse the JSON data\n",
    "    data = response.json()\n",
    "\n",
    "    # Extract the name of the office\n",
    "    office_name = data[\"results\"][0][\"cccc\"] if \"results\" in data and data[\"results\"] else \"UnknownOffice\"\n",
    "\n",
    "    # Accessing information\n",
    "    for result in data[\"results\"]:\n",
    "        # Check if the \"data\" field includes specific words (case-insensitive)\n",
    "        if any(word.lower() in result[\"data\"].lower() for word in filter_words):\n",
    "            # Extract the unique date (year, month, and day)\n",
    "            utc_valid_date = result[\"utcvalid\"].split(\"T\")[0]\n",
    "            if utc_valid_date not in unique_dates:\n",
    "                # Add the result to the CSV data list\n",
    "                csv_data.append({\"UTC Valid Date\": utc_valid_date})\n",
    "                unique_dates.add(utc_valid_date)\n",
    "\n",
    "    # Export to CSV file with the office name\n",
    "    csv_file_path = f\"{office_name}_METR_4990_Dates.csv\"\n",
    "    with open(csv_file_path, \"w\", newline=\"\", encoding=\"utf-8\") as csvfile:\n",
    "        fieldnames = [\"UTC Valid Date\"]\n",
    "        writer = csv.DictWriter(csvfile, fieldnames=fieldnames)\n",
    "\n",
    "        # Write the header\n",
    "        writer.writeheader()\n",
    "\n",
    "        # Write the data\n",
    "        for row in csv_data:\n",
    "            writer.writerow(row)\n",
    "\n",
    "        print(f\"Results exported to {csv_file_path}\")\n",
    "else:\n",
    "    print(\"Failed to retrieve data. Status code:\", response.status_code)"
   ]
  }
 ],
 "metadata": {
  "kernelspec": {
   "display_name": "base",
   "language": "python",
   "name": "python3"
  },
  "language_info": {
   "codemirror_mode": {
    "name": "ipython",
    "version": 3
   },
   "file_extension": ".py",
   "mimetype": "text/x-python",
   "name": "python",
   "nbconvert_exporter": "python",
   "pygments_lexer": "ipython3",
   "version": "3.9.16"
  }
 },
 "nbformat": 4,
 "nbformat_minor": 2
}
