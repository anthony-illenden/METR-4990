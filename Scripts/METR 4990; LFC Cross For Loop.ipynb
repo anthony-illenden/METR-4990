{
 "cells": [
  {
   "cell_type": "code",
   "execution_count": 2,
   "metadata": {},
   "outputs": [
    {
     "name": "stderr",
     "output_type": "stream",
     "text": [
      "C:\\Users\\Tony\\anaconda3\\lib\\site-packages\\paramiko\\transport.py:219: CryptographyDeprecationWarning: Blowfish has been deprecated\n",
      "  \"class\": algorithms.Blowfish,\n"
     ]
    }
   ],
   "source": [
    "import netCDF4 as nc\n",
    "from metpy.plots import USCOUNTIES\n",
    "import metpy\n",
    "import cartopy.crs as ccrs \n",
    "import cartopy.feature as cfeature\n",
    "import matplotlib.pyplot as plt\n",
    "import numpy as np\n",
    "import wrf\n",
    "from wrf import vinterp, to_np, getvar, CoordPair, vertcross, get_cartopy, latlon_coords\n",
    "import pandas as pd\n",
    "import matplotlib.ticker as ticker\n",
    "import os\n",
    "from metpy.units import units \n",
    "import metpy.calc as mpcalc\n",
    "import xarray as xr"
   ]
  },
  {
   "cell_type": "code",
   "execution_count": 3,
   "metadata": {},
   "outputs": [],
   "source": [
    "ncfile = nc.Dataset('c:\\\\Users\\\\Tony\\\\Desktop\\\\wrfoutput\\\\ctrl\\\\wrfout_d02_2019-07-20_03_00_00')"
   ]
  },
  {
   "cell_type": "code",
   "execution_count": 4,
   "metadata": {},
   "outputs": [],
   "source": [
    "t = getvar(ncfile, \"temp\", units='k') * units.kelvin\n",
    "td = getvar(ncfile, \"td\", units='k') * units.kelvin\n",
    "p = getvar(ncfile, \"pressure\") * units.hPa\n",
    "z = getvar(ncfile, \"z\", units='m') * units.meter\n",
    "\n",
    "p_sliced = p[0:25, :, :]\n",
    "t_sliced = t[0:25, :, :]\n",
    "td_sliced = td[0:25, :, :]\n",
    "\n",
    "lfc_array = np.empty((p_sliced.shape[0], p_sliced.shape[1], p_sliced.shape[2]))"
   ]
  },
  {
   "cell_type": "code",
   "execution_count": 5,
   "metadata": {},
   "outputs": [
    {
     "name": "stderr",
     "output_type": "stream",
     "text": [
      "C:\\Users\\Tony\\AppData\\Local\\Temp\\ipykernel_25204\\2326569300.py:5: UserWarning: Interpolation point out of data bounds encountered\n",
      "  lfc_pressure, lfc_temperature = metpy.calc.lfc(p_sliced[i:,j,k].values*units.hPa, t_sliced[i:,j,k].values*units.kelvin, td_sliced[i:,j,k].values*units.kelvin)\n",
      "C:\\Users\\Tony\\anaconda3\\lib\\site-packages\\metpy\\interpolate\\one_dimension.py:160: RuntimeWarning: divide by zero encountered in divide\n",
      "  var_interp = var[below] + (var[above] - var[below]) * ((x_array - xp[below])\n",
      "C:\\Users\\Tony\\anaconda3\\lib\\site-packages\\pint\\facets\\plain\\quantity.py:976: RuntimeWarning: invalid value encountered in multiply\n",
      "  magnitude = magnitude_op(self._magnitude, other_magnitude)\n"
     ]
    }
   ],
   "source": [
    "for i in range (p_sliced.shape[0]):\n",
    "    for j in range (p_sliced.shape[1]):\n",
    "        for k in range (p_sliced.shape[2]):\n",
    "            try:\n",
    "                lfc_pressure, lfc_temperature = metpy.calc.lfc(p_sliced[i:,j,k].values*units.hPa, t_sliced[i:,j,k].values*units.kelvin, td_sliced[i:,j,k].values*units.kelvin)\n",
    "                lfc_array[i,j,k] = lfc_pressure.magnitude \n",
    "                #print(lfc_pressure.magnitude)\n",
    "            except:\n",
    "                lfc_array[i,j,k] = np.nan\n",
    "\n",
    "lfc_da1 = xr.DataArray(lfc_array, dims=['top_bottom', 'north_south', 'east_west'])"
   ]
  },
  {
   "cell_type": "code",
   "execution_count": 6,
   "metadata": {},
   "outputs": [],
   "source": [
    "path = 'C:\\\\Users\\\\Tony\\\\Desktop\\\\wrfoutput'\n",
    "file_name = 'lfc_test_0300.npy'\n",
    "\n",
    "# Save the array to a .npy file\n",
    "np.save(file_name, lfc_da1)"
   ]
  }
 ],
 "metadata": {
  "kernelspec": {
   "display_name": "base",
   "language": "python",
   "name": "python3"
  },
  "language_info": {
   "codemirror_mode": {
    "name": "ipython",
    "version": 3
   },
   "file_extension": ".py",
   "mimetype": "text/x-python",
   "name": "python",
   "nbconvert_exporter": "python",
   "pygments_lexer": "ipython3",
   "version": "3.9.18"
  }
 },
 "nbformat": 4,
 "nbformat_minor": 2
}
