{
 "cells": [
  {
   "cell_type": "code",
   "execution_count": 1,
   "metadata": {},
   "outputs": [
    {
     "name": "stderr",
     "output_type": "stream",
     "text": [
      "C:\\Users\\Tony\\anaconda3\\lib\\site-packages\\paramiko\\transport.py:219: CryptographyDeprecationWarning: Blowfish has been deprecated\n",
      "  \"class\": algorithms.Blowfish,\n"
     ]
    }
   ],
   "source": [
    "import netCDF4 as nc\n",
    "from metpy.plots import USCOUNTIES\n",
    "import metpy\n",
    "import cartopy.crs as ccrs \n",
    "import cartopy.feature as cfeature\n",
    "import matplotlib.pyplot as plt\n",
    "import numpy as np\n",
    "import wrf\n",
    "from wrf import vinterp, to_np, getvar, CoordPair, vertcross, get_cartopy\n",
    "import pandas as pd\n",
    "import matplotlib.ticker as ticker\n",
    "import os\n",
    "from metpy.units import units \n",
    "import metpy.calc as mpcalc"
   ]
  },
  {
   "cell_type": "code",
   "execution_count": 2,
   "metadata": {},
   "outputs": [],
   "source": [
    "def cape_cross(ncfile, number):\n",
    "    ncfile = nc.Dataset(ncfile)\n",
    "    t = getvar(ncfile, \"temp\", units='k') * units.kelvin\n",
    "    td = getvar(ncfile, \"td\", units='k') * units.kelvin\n",
    "    p = getvar(ncfile, \"pressure\") * units.hPa\n",
    "\n",
    "    num_lowest_levels = number\n",
    "    num_bottom_top = t.shape[0]\n",
    "    num_south_north = t.shape[1]\n",
    "    num_west_east = t.shape[2]\n",
    "\n",
    "    sbcape_array_3d = np.zeros((num_lowest_levels, num_south_north, num_west_east))\n",
    "    sbcin_array_3d = np.zeros((num_lowest_levels, num_south_north, num_west_east))\n",
    "\n",
    "    for level in range(num_lowest_levels):\n",
    "        for i in range(num_south_north):\n",
    "            for j in range(num_west_east):\n",
    "                profile_t = t[level:, i, j].values * units.kelvin\n",
    "                profile_dew = td[level:, i, j].values * units.kelvin\n",
    "                profile_p = p[level:, i, j].values * units.hPa\n",
    "\n",
    "                cape, cin = mpcalc.surface_based_cape_cin(profile_p, profile_t, profile_dew)\n",
    "\n",
    "                sbcape_array_3d[level, i, j] = cape.m\n",
    "                sbcin_array_3d[level, i, j] = cin.m\n",
    "\n",
    "    return sbcape_array_3d, sbcin_array_3d\n",
    "    "
   ]
  },
  {
   "cell_type": "code",
   "execution_count": 3,
   "metadata": {},
   "outputs": [
    {
     "name": "stderr",
     "output_type": "stream",
     "text": [
      "C:\\Users\\Tony\\AppData\\Local\\Temp\\ipykernel_25464\\3176956884.py:25: UserWarning: Interpolation point out of data bounds encountered\n",
      "  cape, cin = mpcalc.surface_based_cape_cin(profile_p, profile_t, profile_dew)\n"
     ]
    }
   ],
   "source": [
    "sbcape, sbcin = cape_cross(\"c:\\\\Users\\\\Tony\\\\Desktop\\\\wrfoutput\\\\ctrl\\\\wrfout_d02_2019-07-20_05_30_00\", 20)"
   ]
  },
  {
   "cell_type": "code",
   "execution_count": 4,
   "metadata": {},
   "outputs": [],
   "source": [
    "file_path = 'C:\\\\Users\\\\Tony\\\\Desktop\\\\METR 4990\\\\7_20_05_30_sbcape_array_3d.npy'\n",
    "file_path2 = 'C:\\\\Users\\\\Tony\\\\Desktop\\\\METR 4990\\\\7_20_05_30_sbcin_array_3d.npy'\n",
    "\n",
    "\n",
    "np.save(file_path, sbcape)\n",
    "np.save(file_path2, sbcin)"
   ]
  }
 ],
 "metadata": {
  "kernelspec": {
   "display_name": "base",
   "language": "python",
   "name": "python3"
  },
  "language_info": {
   "codemirror_mode": {
    "name": "ipython",
    "version": 3
   },
   "file_extension": ".py",
   "mimetype": "text/x-python",
   "name": "python",
   "nbconvert_exporter": "python",
   "pygments_lexer": "ipython3",
   "version": "3.9.18"
  }
 },
 "nbformat": 4,
 "nbformat_minor": 2
}
