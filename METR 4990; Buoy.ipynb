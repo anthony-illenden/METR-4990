{
 "cells": [
  {
   "cell_type": "code",
   "execution_count": 1,
   "metadata": {},
   "outputs": [
    {
     "name": "stdout",
     "output_type": "stream",
     "text": [
      "         yr  mo  dy  hr  mn  ATMP\n",
      "0       #yr  mo  dy  hr  mn  degC\n",
      "1      2019  05  02  20  50   2.0\n",
      "2      2019  05  02  21  00   2.0\n",
      "3      2019  05  02  21  10   1.8\n",
      "4      2019  05  02  21  20   1.8\n",
      "...     ...  ..  ..  ..  ..   ...\n",
      "27684  2019  11  13  03  20  -4.3\n",
      "27685  2019  11  13  03  30  -4.4\n",
      "27686  2019  11  13  03  40  -4.5\n",
      "27687  2019  11  13  03  50  -4.3\n",
      "27688  2019  11  13  04  00  -4.3\n",
      "\n",
      "[27689 rows x 6 columns]\n"
     ]
    }
   ],
   "source": [
    "import pandas as pd\n",
    "\n",
    "# Replace 'your_link_here' with your actual URL\n",
    "url = 'https://www.ndbc.noaa.gov/view_text_file.php?filename=45002h2019.txt.gz&dir=data/historical/stdmet/'\n",
    "\n",
    "# Read data into DataFrame\n",
    "df = pd.read_csv(url, delim_whitespace=True, skiprows=1, header=None)\n",
    "\n",
    "# Rename columns\n",
    "df.columns = [\"yr\", \"mo\", \"dy\", \"hr\", \"mn\", \"WDIR\", \"WSPD\", \"GST\", \"WVHT\", \"DPD\", \"APD\", \"MWD\", \"PRES\", \"ATMP\", \"WTMP\", \"DEWP\", \"VIS\", \"TIDE\"]\n",
    "\n",
    "# Select only desired columns\n",
    "selected_columns = [\"yr\", \"mo\", \"dy\", \"hr\", \"mn\", \"ATMP\"]\n",
    "df = df[selected_columns]\n",
    "\n",
    "# Display the DataFrame\n",
    "print(df)"
   ]
  }
 ],
 "metadata": {
  "kernelspec": {
   "display_name": "base",
   "language": "python",
   "name": "python3"
  },
  "language_info": {
   "codemirror_mode": {
    "name": "ipython",
    "version": 3
   },
   "file_extension": ".py",
   "mimetype": "text/x-python",
   "name": "python",
   "nbconvert_exporter": "python",
   "pygments_lexer": "ipython3",
   "version": "3.9.16"
  }
 },
 "nbformat": 4,
 "nbformat_minor": 2
}
